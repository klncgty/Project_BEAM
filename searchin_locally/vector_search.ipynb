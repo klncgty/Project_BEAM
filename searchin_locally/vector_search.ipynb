{
 "cells": [
  {
   "cell_type": "markdown",
   "metadata": {},
   "source": [
    "### This jupiter notebook is to make vector search locally"
   ]
  },
  {
   "cell_type": "markdown",
   "metadata": {},
   "source": [
    "# important libraries\n"
   ]
  },
  {
   "cell_type": "code",
   "execution_count": 2,
   "metadata": {},
   "outputs": [
    {
     "name": "stderr",
     "output_type": "stream",
     "text": [
      "c:\\Users\\cgtyk\\AppData\\Local\\Programs\\Python\\Python311\\Lib\\site-packages\\sentence_transformers\\cross_encoder\\CrossEncoder.py:11: TqdmExperimentalWarning: Using `tqdm.autonotebook.tqdm` in notebook mode. Use `tqdm.tqdm` instead to force console mode (e.g. in jupyter console)\n",
      "  from tqdm.autonotebook import tqdm, trange\n"
     ]
    }
   ],
   "source": [
    "import os \n",
    "from langchain_community.vectorstores import FAISS\n",
    "from langchain_community.embeddings.fastembed import FastEmbedEmbeddings\n",
    "import json\n",
    "from pathlib import Path\n",
    "from pprint import pprint\n",
    "from langchain_community.embeddings.fastembed import FastEmbedEmbeddings\n",
    "from sentence_transformers import SentenceTransformer\n",
    "from langchain.text_splitter import RecursiveCharacterTextSplitter\n",
    "from langchain.docstore.document import Document\n",
    "from langchain_groq import ChatGroq\n",
    "from langchain.chains.retrieval_qa.base import RetrievalQA\n"
   ]
  },
  {
   "cell_type": "code",
   "execution_count": 3,
   "metadata": {},
   "outputs": [],
   "source": [
    "# Uploading json source\n",
    "\n",
    "file_path='all_tables.json'\n",
    "data = json.loads(Path(file_path).read_text())\n",
    "\n",
    "\n",
    "# turning json source into text format \n",
    "\n",
    "texts = [json.dumps(item) for item in data]"
   ]
  },
  {
   "cell_type": "code",
   "execution_count": 4,
   "metadata": {},
   "outputs": [
    {
     "data": {
      "application/vnd.jupyter.widget-view+json": {
       "model_id": "bdf2807f3b0f4dba9281378d3ced79df",
       "version_major": 2,
       "version_minor": 0
      },
      "text/plain": [
       "Fetching 5 files:   0%|          | 0/5 [00:00<?, ?it/s]"
      ]
     },
     "metadata": {},
     "output_type": "display_data"
    }
   ],
   "source": [
    "# embedding model\n",
    "\n",
    "embeddings = FastEmbedEmbeddings(model_name=\"BAAI/bge-base-en-v1.5\")"
   ]
  },
  {
   "cell_type": "code",
   "execution_count": null,
   "metadata": {},
   "outputs": [],
   "source": [
    "# optional \n",
    "\n",
    "# ## model = SentenceTransformer('all-MiniLM-L6-v2')"
   ]
  },
  {
   "cell_type": "code",
   "execution_count": 5,
   "metadata": {},
   "outputs": [],
   "source": [
    "# splitting text source into chunks\n",
    "\n",
    "documents = [Document(page_content=text) for text in texts]\n",
    "\n",
    "text_splitter = RecursiveCharacterTextSplitter(\n",
    "    chunk_size=2000,\n",
    "    chunk_overlap=200\n",
    ")\n",
    "\n",
    "splits = text_splitter.split_documents(documents)"
   ]
  },
  {
   "cell_type": "code",
   "execution_count": 41,
   "metadata": {},
   "outputs": [
    {
     "data": {
      "text/plain": [
       "2394"
      ]
     },
     "execution_count": 41,
     "metadata": {},
     "output_type": "execute_result"
    }
   ],
   "source": [
    "len(splits)"
   ]
  },
  {
   "cell_type": "code",
   "execution_count": 7,
   "metadata": {},
   "outputs": [],
   "source": [
    "# llm. open source llama3 via chatgroq\n",
    "\n",
    "llm = ChatGroq(\n",
    "                    temperature=0,\n",
    "                    model=\"llama3-70b-8192\",\n",
    "                    api_key=\"CHAT_GROQ_API_KEY\"\n",
    "                )"
   ]
  },
  {
   "cell_type": "code",
   "execution_count": 10,
   "metadata": {},
   "outputs": [
    {
     "data": {
      "text/plain": [
       "\"Cement is a binding agent that is used to hold together aggregates such as sand, gravel, and crushed stone to form concrete. It is a fine powder that is produced by grinding limestone, clay, and other minerals into a fine powder.\\n\\nHere are some interesting facts about cement:\\n\\n1. **History**: The earliest known use of cement dates back to around 2500 BC in ancient Egypt. The Egyptians used a mixture of lime, gypsum, and water to create a mortar that was used to build the pyramids.\\n2. **Composition**: Cement is typically composed of limestone (60-70%), clay (15-20%), silica (5-10%), and other minerals such as iron oxide and alumina.\\n3. **Manufacturing process**: Cement is manufactured through a process known as calcination, where limestone and clay are heated to high temperatures (around 1450°C) to produce clinker. The clinker is then ground into a fine powder to produce cement.\\n4. **Types of cement**: There are several types of cement, including:\\n\\t* Portland cement: the most common type of cement, used for general construction purposes.\\n\\t* Rapid hardening cement: used for rapid construction projects.\\n\\t* Low heat cement: used for large concrete structures such as dams and bridges.\\n\\t* White cement: used for decorative concrete and architectural applications.\\n5. **Uses**: Cement is used in a wide range of applications, including:\\n\\t* Concrete construction: roads, bridges, buildings, and other infrastructure projects.\\n\\t* Masonry: used to bind together bricks, blocks, and stones.\\n\\t* Plastering: used to create smooth surfaces on walls and ceilings.\\n\\t* Flooring: used to create decorative and durable flooring surfaces.\\n6. **Environmental impact**: The production of cement is a significant source of greenhouse gas emissions, accounting for around 8% of global CO2 emissions. Efforts are being made to reduce the environmental impact of cement production, including the use of alternative fuels and more efficient manufacturing processes.\\n7. **Fun fact**: The world's largest cement producer is China, accounting for over 50% of global cement production.\\n\\nI hope you found these facts interesting! Do you have any specific questions about cement or its applications?\""
      ]
     },
     "execution_count": 10,
     "metadata": {},
     "output_type": "execute_result"
    }
   ],
   "source": [
    "# use of llm for any topic ( not tuned with source)\n",
    "\n",
    "llm.invoke(\"cement\").content"
   ]
  },
  {
   "cell_type": "code",
   "execution_count": 18,
   "metadata": {},
   "outputs": [],
   "source": [
    "# Creating vector store\n",
    "\n",
    "vector_store = FAISS.from_texts([split.page_content for split in splits], embeddings)"
   ]
  },
  {
   "cell_type": "code",
   "execution_count": 22,
   "metadata": {},
   "outputs": [],
   "source": [
    "# Saving vector store on our local. it will take time in the first time creating vector store. so that, i saved our vector store for using after.\n",
    "\n",
    "vector_store.save_local(\"vector_store\")"
   ]
  },
  {
   "cell_type": "code",
   "execution_count": 6,
   "metadata": {},
   "outputs": [],
   "source": [
    "# Loading saved vector store \n",
    "\n",
    "vectorstore = FAISS.load_local(folder_path=\"vector_store\", embeddings=embeddings,allow_dangerous_deserialization=True)"
   ]
  },
  {
   "cell_type": "code",
   "execution_count": 8,
   "metadata": {},
   "outputs": [
    {
     "data": {
      "text/plain": [
       "[(Document(page_content='{\"description\": \"(Maximum 20% water absorption (indoors), 15 N/mm\\\\u00b2) bending strength)\", \"unit\": \"\", \"purchased at\": \"\", \"price\": \"\"}, {\"description\": \"Plain vitrified tiles, any color\", \"unit\": \"m\\\\u00b2\", \"purchased at\": \"On the job\", \"price\": \"100,00\"}, {\"description\": \"(20 cm x 20 cm)\", \"unit\": \"\", \"purchased at\": \"\", \"price\": \"\"}, {\"description\": \"Plain vitrified curbs, any color\", \"unit\": \"m\\\\u00b2\", \"purchased at\": \"On the job\", \"price\": \"107,00\"}, {\"description\": \"(20 cm x 20 cm)\", \"unit\": \"\", \"purchased at\": \"\", \"price\": \"\"}, {\"description\": \"Plain vitrified corner, any color\", \"unit\": \"m\\\\u00b2\", \"purchased at\": \"On the job\", \"price\": \"113,00\"}, {\"description\": \"(10 cm x 10 cm)\", \"unit\": \"\", \"purchased at\": \"\", \"price\": \"\"}, {\"description\": \"Plain, embossed, vitrified tiles, any color\", \"unit\": \"m\\\\u00b2\", \"purchased at\": \"On the job\", \"price\": \"107,00\"}, {\"description\": \"(20 cm x 20 cm)\", \"unit\": \"\", \"purchased at\": \"\", \"price\": \"\"}, {\"description\": \"Plain, embossed, vitrified kerbs, any color\", \"unit\": \"m\\\\u00b2\", \"purchased at\": \"On the job\", \"price\": \"110,00\"}, {\"description\": \"(20 cm x 20 cm)\", \"unit\": \"\", \"purchased at\": \"\", \"price\": \"\"}, {\"description\": \"Plain, vitrified, embossed corner, any color\", \"unit\": \"m\\\\u00b2\", \"purchased at\": \"On the job\", \"price\": \"113,00\"}, {\"description\": \"(10 cm x 10 cm)\", \"unit\": \"\", \"purchased at\": \"\", \"price\": \"\"}, {\"description\": \"Patterned, vitrified tiles, any color\", \"unit\": \"m\\\\u00b2\", \"purchased at\": \"On the job\", \"price\": \"123,00\"}, {\"description\": \"(20 cm x 20 cm)\", \"unit\": \"\", \"purchased at\": \"\", \"price\": \"\"}, {\"description\": \"Patterned, vitrified curbs, any color\", \"unit\": \"m\\\\u00b2\", \"purchased at\": \"On the job\", \"price\": \"129,00\"}, {\"description\": \"(20 cm x 20 cm)\", \"unit\": \"\", \"purchased at\": \"\", \"price\": \"\"}, {\"description\": \"Patterned, vitrified corner, any color\", \"unit\": \"m\\\\u00b2\", \"purchased at\": \"On the job\", \"price\": \"140,00\"}, {\"description\": \"(10 cm x 10 cm)\", \"unit\": \"\", \"purchased at\": \"\",'),\n",
       "  0.9105433),\n",
       " (Document(page_content='\"Tulip Black (Diyarbak\\\\u0131r)\", \"unit\": \"m\\\\u00b2\", \"purchased at\": \"On the job\", \"price\": \"670,00\"}, {\"description\": \"Brown Espera (Ad\\\\u0131yaman)\", \"unit\": \"m\\\\u00b2\", \"purchased at\": \"On the job\", \"price\": \"193,00\"}, {\"description\": \"Reddish Brown (Denizli)\", \"unit\": \"m\\\\u00b2\", \"purchased at\": \"On the job\", \"price\": \"168,00\"}, {\"description\": \"Silver Black (Afyon)\", \"unit\": \"m\\\\u00b2\", \"purchased at\": \"On the job\", \"price\": \"215,00\"}, {\"description\": \"Portoro (Antalya)\", \"unit\": \"m\\\\u00b2\", \"purchased at\": \"On the job\", \"price\": \"252,00\"}, {\"description\": \"Salome (Eski\\\\u015fehir)\", \"unit\": \"m\\\\u00b2\", \"purchased at\": \"On the job\", \"price\": \"108,00\"}, {\"description\": \"Golden Spider (Eski\\\\u015fehir)\", \"unit\": \"m\\\\u00b2\", \"purchased at\": \"On the job\", \"price\": \"108,00\"}, {\"description\": \"Black Pearl (Diyarbak\\\\u0131r)\", \"unit\": \"m\\\\u00b2\", \"purchased at\": \"On the job\", \"price\": \"143,00\"}, {\"description\": \"Any surface treatment (including burning, aging, sanding, hammering, filling,\", \"unit\": \"m\\\\u00b2\", \"purchased at\": \"On the job\", \"price\": \"32,00\"}, {\"description\": \"natural sizing, acid washing, etc., excluding honing and polishing)\", \"unit\": \"\", \"purchased at\": \"\", \"price\": \"\"}, {\"description\": \"ONYX (Honed or polished)\", \"unit\": \"\", \"purchased at\": \"\", \"price\": \"\"}, {\"description\": \"(TS EN 12057, TS EN 1467, TS EN 1468)\", \"unit\": \"\", \"purchased at\": \"\", \"price\": \"\"}, {\"description\": \"Fantasy Onyx (Bayburt)\", \"unit\": \"m\\\\u00b2\", \"purchased at\": \"On the job\", \"price\": \"940,00\"}, {\"description\": \"Onyx Honey (Eski\\\\u015fehir)\", \"unit\": \"m\\\\u00b2\", \"purchased at\": \"On the job\", \"price\": \"211,00\"}, {\"description\": \"White Onyx (Bayburt)\", \"unit\": \"m\\\\u00b2\", \"purchased at\": \"On the job\", \"price\": \"1.180,00\"}, {\"description\": \"Onyx Marble (Afyon)\", \"unit\": \"m\\\\u00b2\", \"purchased at\": \"On the job\", \"price\": \"550,00\"}, {\"description\": \"Sivas Onyx (Sivas)\", \"unit\": \"m\\\\u00b2\", \"purchased at\": \"On the job\", \"price\": \"362,00\"}, {\"description\": \"Picasso Onyx (Eski\\\\u015fehir)\", \"unit\":'),\n",
       "  0.91026556),\n",
       " (Document(page_content='\"unit\": \"m\\\\u00b2\", \"purchased at\": \"On the job\", \"price\": \"138,00\"}, {\"description\": \"\\\\u00c7anakkale Pearl (\\\\u00c7anakkale)\", \"unit\": \"m\\\\u00b2\", \"purchased at\": \"On the job\", \"price\": \"138,00\"}, {\"description\": \"Denizli White Marble (Denizli)\", \"unit\": \"m\\\\u00b2\", \"purchased at\": \"On the job\", \"price\": \"129,00\"}, {\"description\": \"Golden Crystal  (Bal\\\\u0131kesir)\", \"unit\": \"m\\\\u00b2\", \"purchased at\": \"On the job\", \"price\": \"140,00\"}, {\"description\": \"Kale Sugar (Mu\\\\u011fla)\", \"unit\": \"m\\\\u00b2\", \"purchased at\": \"On the job\", \"price\": \"186,00\"}, {\"description\": \"Kavakl\\\\u0131dere Silver White (Mu\\\\u011fla)\", \"unit\": \"m\\\\u00b2\", \"purchased at\": \"On the job\", \"price\": \"98,00\"}, {\"description\": \"K\\\\u00fctahya Tiger Skin (K\\\\u00fctahya)\", \"unit\": \"m\\\\u00b2\", \"purchased at\": \"On the job\", \"price\": \"108,00\"}, {\"description\": \"Marmara Adas\\\\u0131 Gray (Bal\\\\u0131kesir)\", \"unit\": \"m\\\\u00b2\", \"purchased at\": \"On the job\", \"price\": \"118,00\"}, {\"description\": \"Marmara White (Bal\\\\u0131kesir)\", \"unit\": \"m\\\\u00b2\", \"purchased at\": \"On the job\", \"price\": \"133,00\"}, {\"description\": \"Marmara Equator (Bal\\\\u0131kesir)\", \"unit\": \"m\\\\u00b2\", \"purchased at\": \"On the job\", \"price\": \"274,00\"}, {\"description\": \"Marmara Silver (Bal\\\\u0131kesir)\", \"unit\": \"m\\\\u00b2\", \"purchased at\": \"On the job\", \"price\": \"208,00\"}, {\"description\": \"Marmara Panda (Bal\\\\u0131kesir)\", \"unit\": \"m\\\\u00b2\", \"purchased at\": \"On the job\", \"price\": \"230,00\"}, {\"description\": \"Milas (Mu\\\\u011fla)\", \"unit\": \"m\\\\u00b2\", \"purchased at\": \"On the job\", \"price\": \"138,00\"}, {\"description\": \"Milas White, Mu\\\\u011fla White (Mu\\\\u011fla)\", \"unit\": \"m\\\\u00b2\", \"purchased at\": \"On the job\", \"price\": \"99,00\"}, {\"description\": \"Milas Lilac (Mu\\\\u011fla)\", \"unit\": \"m\\\\u00b2\", \"purchased at\": \"On the job\", \"price\": \"150,00\"}, {\"description\": \"Milas Lemon (Mu\\\\u011fla)\", \"unit\": \"m\\\\u00b2\", \"purchased at\": \"On the job\", \"price\": \"98,00\"}, {\"description\": \"Milas Pearl (Mu\\\\u011fla)\", \"unit\": \"m\\\\u00b2\", \"purchased at\": \"On the job\", \"price\": \"109,00\"},'),\n",
       "  0.89921963),\n",
       " (Document(page_content='(4+4 - 0.38 PVB, laminated)\", \"unit\": \"m\\\\u00b2\", \"purchased at\": \"On the job\", \"price\": \"730,00\"}, {\"description\": \"6 + (4+4 - 0.38 PVB, laminated)\", \"unit\": \"m\\\\u00b2\", \"purchased at\": \"On the job\", \"price\": \"790,00\"}, {\"description\": \"4 + (5+5 - 0.38 PVB, laminated)\", \"unit\": \"m\\\\u00b2\", \"purchased at\": \"On the job\", \"price\": \"810,00\"}, {\"description\": \"6 + (5+5 - 0.38 PVB, laminated)\", \"unit\": \"m\\\\u00b2\", \"purchased at\": \"On the job\", \"price\": \"870,00\"}, {\"description\": \"12-mm spacing, molded\", \"unit\": \"\", \"purchased at\": \"\", \"price\": \"\"}, {\"description\": \"(The outer glass shall be coated with tempered, neutral, thermal control layer, and the inner glass shall be plain glass)\", \"unit\": \"\", \"purchased at\": \"\", \"price\": \"\"}, {\"description\": \"4+4 mm thickness\", \"unit\": \"m\\\\u00b2\", \"purchased at\": \"On the job\", \"price\": \"600,00\"}, {\"description\": \"6+6 mm thickness\", \"unit\": \"m\\\\u00b2\", \"purchased at\": \"On the job\", \"price\": \"725,00\"}, {\"description\": \"8+8 mm thickness\", \"unit\": \"m\\\\u00b2\", \"purchased at\": \"On the job\", \"price\": \"870,00\"}, {\"description\": \"8+6 mm thickness\", \"unit\": \"m\\\\u00b2\", \"purchased at\": \"On the job\", \"price\": \"825,00\"}, {\"description\": \"16-mm spacing, molded\", \"unit\": \"\", \"purchased at\": \"\", \"price\": \"\"}, {\"description\": \"(The outer glass shall be coated with tempered, neutral, thermal control layer, and the inner glass shall be plain glass)\", \"unit\": \"\", \"purchased at\": \"\", \"price\": \"\"}, {\"description\": \"4+4 mm thickness\", \"unit\": \"m\\\\u00b2\", \"purchased at\": \"On the job\", \"price\": \"615,00\"}, {\"description\": \"6+6 mm thickness\", \"unit\": \"m\\\\u00b2\", \"purchased at\": \"On the job\", \"price\": \"735,00\"}, {\"description\": \"8+8 mm thickness\", \"unit\": \"m\\\\u00b2\", \"purchased at\": \"On the job\", \"price\": \"885,00\"}, {\"description\": \"8+6 mm thickness\", \"unit\": \"m\\\\u00b2\", \"purchased at\": \"On the job\", \"price\": \"840,00\"}, {\"description\": \"Tempered Glasses (TS EN 14321-1, 2)\", \"unit\": \"\", \"purchased at\": \"\", \"price\": \"\"}, {\"description\": \"6 mm thickness\", \"unit\":'),\n",
       "  0.8981921),\n",
       " (Document(page_content='\"(+45 C condensation, -30\\\\u00b0C evaporation)\", \"unit\": \"\", \"purchased at\": \"\", \"price\": \"\"}, {\"description\": \"(1000 kcal/h)\", \"unit\": \"\", \"purchased at\": \"39.371,41\", \"price\": \"1.612,81\"}, {\"description\": \"(2000 kcal/h)\", \"unit\": \"\", \"purchased at\": \"50.191,83\", \"price\": \"1.828,13\"}, {\"description\": \"(2500 kcal/h)\", \"unit\": \"\", \"purchased at\": \"61.327,94\", \"price\": \"2.043,44\"}, {\"description\": \"(3000 kcal/h)\", \"unit\": \"\", \"purchased at\": \"66.388,76\", \"price\": \"2.311,56\"}, {\"description\": \"(3500 kcal/h)\", \"unit\": \"\", \"purchased at\": \"71.677,28\", \"price\": \"2.526,88\"}, {\"description\": \"(4000 kcal/h)\", \"unit\": \"\", \"purchased at\": \"76.605,76\", \"price\": \"2.799,06\"}, {\"description\": \"(4500 kcal/h)\", \"unit\": \"\", \"purchased at\": \"82.641,50\", \"price\": \"2.957,50\"}, {\"description\": \"(5,000 kcal/h)\", \"unit\": \"\", \"purchased at\": \"88.127,69\", \"price\": \"3.229,69\"}, {\"description\": \"(5500 kcal/h)\", \"unit\": \"\", \"purchased at\": \"94.441,71\", \"price\": \"3.335,31\"}, {\"description\": \"(6000 kcal/h)\", \"unit\": \"\", \"purchased at\": \"102.108,44\", \"price\": \"3.603,44\"}, {\"description\": \"(6500 kcal/h)\", \"unit\": \"\", \"purchased at\": \"110.118,34\", \"price\": \"3.765,94\"}, {\"description\": \"(7000 kcal/h)\", \"unit\": \"\", \"purchased at\": \"118.908,14\", \"price\": \"3.928,44\"}, {\"description\": \"(7500 kcal/h)\", \"unit\": \"\", \"purchased at\": \"128.374,46\", \"price\": \"4.196,56\"}, {\"description\": \"(8,000 kcal/h)\", \"unit\": \"\", \"purchased at\": \"139.760,29\", \"price\": \"4.464,69\"}]'),\n",
       "  0.885648)]"
      ]
     },
     "execution_count": 8,
     "metadata": {},
     "output_type": "execute_result"
    }
   ],
   "source": [
    "#This function searches a vector store for the most relevant results to a query, \n",
    "#   sorts them by similarity score in descending order, and returns the top N results.\n",
    "\n",
    "K = 10\n",
    "N = 5\n",
    "\n",
    "query = \" \"\n",
    "\n",
    "def search_in_vector_store(query, top_n = N):\n",
    "    chunk_text = vectorstore.similarity_search_with_score(query=query,k=K)\n",
    "    sorted_results = sorted(chunk_text, key=lambda x: x[1], reverse=True)\n",
    "    top_results = sorted_results[:top_n]\n",
    "    return top_results\n",
    "\n",
    "chunk_text = search_in_vector_store(query)  \n"
   ]
  },
  {
   "cell_type": "code",
   "execution_count": 9,
   "metadata": {},
   "outputs": [],
   "source": [
    "# below, most related chunks from our source. \n",
    "\n",
    "chunk_text"
   ]
  },
  {
   "cell_type": "code",
   "execution_count": 44,
   "metadata": {},
   "outputs": [
    {
     "name": "stdout",
     "output_type": "stream",
     "text": [
      "690,63\n"
     ]
    }
   ],
   "source": [
    "# Below code is a simple rag system for query a material with the help of llm and vector store that we created.\n",
    "\n",
    "query = \"price of 4 GN 1/3 tub Chilled Garnish. only give the price.\"\n",
    "\n",
    "\n",
    "\n",
    "qa_chain = RetrievalQA.from_chain_type(llm, chain_type=\"stuff\", retriever=vectorstore.as_retriever())\n",
    "\n",
    "\n",
    "result = qa_chain.run(query)\n",
    "print(result)"
   ]
  }
 ],
 "metadata": {
  "kernelspec": {
   "display_name": "Python 3",
   "language": "python",
   "name": "python3"
  },
  "language_info": {
   "codemirror_mode": {
    "name": "ipython",
    "version": 3
   },
   "file_extension": ".py",
   "mimetype": "text/x-python",
   "name": "python",
   "nbconvert_exporter": "python",
   "pygments_lexer": "ipython3",
   "version": "3.11.0"
  }
 },
 "nbformat": 4,
 "nbformat_minor": 2
}
