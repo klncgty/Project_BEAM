{
 "cells": [
  {
   "cell_type": "code",
   "execution_count": null,
   "metadata": {},
   "outputs": [],
   "source": [
    "import camelot.io as camelot\n",
    "from camelot import plotting\n",
    "import tkinter\n",
    "import os\n",
    "import json \n",
    "import warnings\n",
    "\n",
    "\n",
    "#ignoring warnings\n",
    "warnings.filterwarnings(\"ignore\", category=UserWarning, module=\"camelot.parsers.stream\")\n",
    "\n",
    "# loading our pdf via camelot\n",
    "tables = camelot.read_pdf('2024-TR_UNIT_PRICES_ENG.pdf',pages=\"2-end\", flavor='stream')\n",
    "\n",
    "print(f\"Data from the PDF has been converted into {tables.n} tables.\")"
   ]
  },
  {
   "cell_type": "code",
   "execution_count": null,
   "metadata": {},
   "outputs": [],
   "source": [
    "tables.export('foo.csv', f='csv', compress=True)tables.export('foo.csv', f='csv', compress=True)"
   ]
  },
  {
   "cell_type": "code",
   "execution_count": null,
   "metadata": {},
   "outputs": [],
   "source": [
    "# preparing the source data \n",
    "for i in range(3,{tables.n}):\n",
    "    tables[i].df = tables[i].df.drop(index=0).reset_index(drop=True)\n",
    "    tables[i].df = tables[i].df.rename(columns={0: \"id\", 1: \"description\", 2: \"unit\", 3: \"price\"})\n",
    "for i in range(1,{tables.n}):\n",
    "    if \"id\" in tables[i].df.columns:\n",
    "        tables[i].df = tables[i].df.drop(columns=['id'])\n",
    "for i in range(1, {tables.n}):\n",
    "    if len(tables[i].df.columns) == 2:\n",
    "        tables[i].df = tables[i].df.rename(columns={'unit': 'price'})\n",
    "        \n",
    "for i in range(1, {tables.n}):\n",
    "    if len(tables[i].df.columns) == 4:\n",
    "        tables[i].df = tables[i].df.rename(columns={'price': 'purchased at', 4: 'price'})"
   ]
  },
  {
   "cell_type": "code",
   "execution_count": null,
   "metadata": {},
   "outputs": [],
   "source": [
    "#  We turn our pdf to csv above codes. \n",
    "#    NOW IN THIS CELL,  \n",
    "#      we are getting a json source belongs to our pdf.\n",
    "\n",
    "all_tables = []\n",
    "\n",
    "for i in range(720):\n",
    "    temp_json_path = f\"jsons/temp_{i}.json\"\n",
    "    tables[i].to_json(temp_json_path)\n",
    "    \n",
    "    with open(temp_json_path, 'r') as file:\n",
    "        table_dict = json.load(file)\n",
    "        if table_dict: \n",
    "            all_tables.append(table_dict)\n",
    "    \n",
    "    os.remove(temp_json_path) \n",
    "\n",
    "with open(\"all_tables.json\", \"w\") as json_file:\n",
    "    json.dump(all_tables, json_file, indent=4)"
   ]
  }
 ],
 "metadata": {
  "language_info": {
   "name": "python"
  }
 },
 "nbformat": 4,
 "nbformat_minor": 2
}
