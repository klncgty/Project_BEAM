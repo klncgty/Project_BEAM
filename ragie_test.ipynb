{
 "cells": [
  {
   "cell_type": "code",
   "execution_count": 47,
   "metadata": {},
   "outputs": [
    {
     "name": "stdout",
     "output_type": "stream",
     "text": [
      "file found\n",
      "File uploaded successfully!\n"
     ]
    }
   ],
   "source": [
    "# 1\n",
    "import os\n",
    "import json\n",
    "from requests import post, exceptions\n",
    "\n",
    "api_key = \"tnt_2DYrMSogwqi_Wkezkg3VyLWJJP0JcH8kleQ6InzrbF1eITbfNcs8OSx\"\n",
    "file_path = \"collected.txt\"\n",
    "                                                                \n",
    "try:\n",
    "    with open(file_path, \"rb\") as f:\n",
    "        print(\"file found\")\n",
    "        content = f.read()\n",
    "except FileNotFoundError:\n",
    "    print(f\"Dosya bulunamadı: {file_path}\")\n",
    "    exit()\n",
    "\n",
    "metadata = {\"title\": \"price\", \"environment\": \"rag\"}\n",
    "\n",
    "data = {\n",
    "    \"metadata\": json.dumps(metadata)\n",
    "}\n",
    "\n",
    "files = { \"file\": (file_path, content), }\n",
    "\n",
    "headers = {\n",
    "    \"Authorization\": f\"Bearer {api_key}\",\n",
    "    \"Accept\": \"application/json\"\n",
    "}\n",
    "\n",
    "try:\n",
    "    response = post(\"https://api.ragie.ai/documents\", data=data, files=files, headers=headers)\n",
    "    response.raise_for_status()  \n",
    "    print(\"File uploaded successfully!\")\n",
    "except exceptions.RequestException as e:\n",
    "    print(f\"Uploading error: {e}\")\n"
   ]
  },
  {
   "cell_type": "code",
   "execution_count": 48,
   "metadata": {},
   "outputs": [
    {
     "name": "stdout",
     "output_type": "stream",
     "text": [
      "En son yüklenen dosya idsi = b316b02e-2a51-462a-b21b-34b6722cd5d6\n"
     ]
    }
   ],
   "source": [
    "import requests\n",
    "import json\n",
    "\n",
    "environment= \"rag\"\n",
    "url = f\"https://api.ragie.ai/documents\"\n",
    "headers = {\"Authorization\": f\"Bearer {api_key}\"}\n",
    "\n",
    "try:\n",
    "    response = requests.get(url, headers=headers)\n",
    "    response.raise_for_status()  # Raise an exception for non-200 status codes\n",
    "\n",
    "    data = response.json()\n",
    "    id = data['documents'][0]['id']\n",
    "    print(f\"En son yüklenen dosya idsi = {data['documents'][0]['id']}\")\n",
    "except requests.exceptions.RequestException as e:\n",
    "    print(f\"An error occurred: {e}\")"
   ]
  },
  {
   "cell_type": "code",
   "execution_count": 49,
   "metadata": {},
   "outputs": [
    {
     "name": "stdout",
     "output_type": "stream",
     "text": [
      "{'id': 'b316b02e-2a51-462a-b21b-34b6722cd5d6', 'created_at': '2024-07-27T15:03:27.224003Z', 'updated_at': '2024-07-27T15:03:27.978486Z', 'status': 'partitioning', 'name': 'collected.txt', 'metadata': {'title': 'price', 'environment': 'rag'}, 'chunk_count': 0, 'external_id': None}\n"
     ]
    }
   ],
   "source": [
    "import requests\n",
    "import json\n",
    "\n",
    "\n",
    "\n",
    "url = f\"https://api.ragie.ai/documents/{id}\"\n",
    "headers = {\"Authorization\": f\"Bearer {api_key}\"}\n",
    "\n",
    "try:\n",
    "    response = requests.get(url, headers=headers)\n",
    "    response.raise_for_status()  \n",
    "\n",
    "    data = response.json()\n",
    "    print(data)\n",
    "except requests.exceptions.RequestException as e:\n",
    "    print(f\"An error occurred: {e}\")"
   ]
  },
  {
   "cell_type": "markdown",
   "metadata": {},
   "source": [
    "# our test data : material_table.csv\n",
    "\n",
    "maybe important columns are Element,type,level and material.\n",
    "\n",
    "Element,Element_ID,Type,Level,Material,Volume,Area,Length\n",
    "Walls,348721,Generic - 200mm,Level 1,Default Wall,10.378381544244544,52.32838317982891,13500000.000000002\n",
    "Walls,348799,Generic - 200mm,Level 1,Default Wall,5.924384085743169,29.87427472612334,7900000.000000001\n",
    "Walls,348832,Generic - 200mm,Level 1,Default Wall,6.160371282705472,31.070456695746568,8399999.999999981\n",
    "Walls,348867,Generic - 200mm,Level 1,Default Wall,2.519267765605479,12.704645393438359,3400000.0\n",
    "Walls,348907,Generic - 200mm,Level 1,Default Wall,4.112708582754127,20.724919696232977,5150000.000000019\n",
    "Walls,348945,Generic - 200mm,Level 1,Default Wall,3.2446830938760205,16.36313093876025,4499999.999999986\n",
    "Walls,349579,Generic -100 mm,Level 1,Default Wall,1.7028762234596897,17.028762234596837,4499999.999999986\n",
    "Walls,349652,Generic -100 mm,Level 1,Default Wall,2.95308057876629,29.6120357117212,7650000.000000001\n",
    "Walls,350195,Generic -100 mm,Level 1,Default Wall,1.3899473195226815,13.909112479548364,3209999.9999999856\n",
    "Roofs,349491,Generic - 400mm,Level 2,Default Roof,46.98353802786268,117.45884506965665,\n"
   ]
  },
  {
   "cell_type": "code",
   "execution_count": 50,
   "metadata": {},
   "outputs": [],
   "source": [
    "def ragie(test_data):   \n",
    "    filter_data = {\"environment\": \"rag\"}\n",
    "\n",
    "    data = {\"query\": f\"  {test_data}\", \"filter\": filter_data,\"rerank\": True, \"top_k\": 4}\n",
    "    body = json.dumps(data)\n",
    "\n",
    "    url = \"https://api.ragie.ai/retrievals\"\n",
    "\n",
    "    headers = {\n",
    "        \"Content-Type\": \"application/json\",\n",
    "        \"Authorization\": f\"Bearer {api_key}\"\n",
    "    }\n",
    "\n",
    "    try:\n",
    "    \n",
    "        response = requests.post(url, headers=headers, data=body)\n",
    "        response.raise_for_status()  \n",
    "\n",
    "        data = response.json()\n",
    "        #print(data)\n",
    "    except requests.exceptions.RequestException as e:\n",
    "        print(f\"An error occurred: {e}\")\n",
    "    text_list = [chunk['text'] for chunk in data['scored_chunks']]\n",
    "    combined_text = '\\n'.join(text_list)\n",
    "    return combined_text"
   ]
  },
  {
   "cell_type": "code",
   "execution_count": 54,
   "metadata": {},
   "outputs": [],
   "source": [
    "import pandas as pd\n",
    "df = pd.read_csv(\"material_table.csv\")\n",
    "df = df[[\"Element\",\"Type\"]]\n",
    "test_data = df.to_json(orient=\"records\")"
   ]
  },
  {
   "cell_type": "code",
   "execution_count": 52,
   "metadata": {},
   "outputs": [
    {
     "data": {
      "text/plain": [
       "'[{\"Element\":\"Walls\",\"Element_ID\":348721,\"Type\":\"Generic - 200mm\",\"Level\":\"Level 1\",\"Material\":\"Default Wall\",\"Volume\":10.3783815442,\"Area\":52.3283831798,\"Length\":13500000.0000000019},{\"Element\":\"Walls\",\"Element_ID\":348799,\"Type\":\"Generic - 200mm\",\"Level\":\"Level 1\",\"Material\":\"Default Wall\",\"Volume\":5.9243840857,\"Area\":29.8742747261,\"Length\":7900000.0000000009},{\"Element\":\"Walls\",\"Element_ID\":348832,\"Type\":\"Generic - 200mm\",\"Level\":\"Level 1\",\"Material\":\"Default Wall\",\"Volume\":6.1603712827,\"Area\":31.0704566957,\"Length\":8399999.9999999814},{\"Element\":\"Walls\",\"Element_ID\":348867,\"Type\":\"Generic - 200mm\",\"Level\":\"Level 1\",\"Material\":\"Default Wall\",\"Volume\":2.5192677656,\"Area\":12.7046453934,\"Length\":3400000.0},{\"Element\":\"Walls\",\"Element_ID\":348907,\"Type\":\"Generic - 200mm\",\"Level\":\"Level 1\",\"Material\":\"Default Wall\",\"Volume\":4.1127085828,\"Area\":20.7249196962,\"Length\":5150000.0000000186},{\"Element\":\"Walls\",\"Element_ID\":348945,\"Type\":\"Generic - 200mm\",\"Level\":\"Level 1\",\"Material\":\"Default Wall\",\"Volume\":3.2446830939,\"Area\":16.3631309388,\"Length\":4499999.999999986},{\"Element\":\"Walls\",\"Element_ID\":349579,\"Type\":\"Generic -100 mm\",\"Level\":\"Level 1\",\"Material\":\"Default Wall\",\"Volume\":1.7028762235,\"Area\":17.0287622346,\"Length\":4499999.999999986},{\"Element\":\"Walls\",\"Element_ID\":349652,\"Type\":\"Generic -100 mm\",\"Level\":\"Level 1\",\"Material\":\"Default Wall\",\"Volume\":2.9530805788,\"Area\":29.6120357117,\"Length\":7650000.0000000009},{\"Element\":\"Walls\",\"Element_ID\":350195,\"Type\":\"Generic -100 mm\",\"Level\":\"Level 1\",\"Material\":\"Default Wall\",\"Volume\":1.3899473195,\"Area\":13.9091124795,\"Length\":3209999.9999999856},{\"Element\":\"Roofs\",\"Element_ID\":349491,\"Type\":\"Generic - 400mm\",\"Level\":\"Level 2\",\"Material\":\"Default Roof\",\"Volume\":46.9835380279,\"Area\":117.4588450697,\"Length\":null}]'"
      ]
     },
     "execution_count": 52,
     "metadata": {},
     "output_type": "execute_result"
    }
   ],
   "source": [
    "test_data"
   ]
  },
  {
   "cell_type": "code",
   "execution_count": 53,
   "metadata": {},
   "outputs": [
    {
     "data": {
      "text/plain": [
       "''"
      ]
     },
     "execution_count": 53,
     "metadata": {},
     "output_type": "execute_result"
    }
   ],
   "source": [
    "ragie(test_data=\"wall\")"
   ]
  }
 ],
 "metadata": {
  "kernelspec": {
   "display_name": "Python 3",
   "language": "python",
   "name": "python3"
  },
  "language_info": {
   "codemirror_mode": {
    "name": "ipython",
    "version": 3
   },
   "file_extension": ".py",
   "mimetype": "text/x-python",
   "name": "python",
   "nbconvert_exporter": "python",
   "pygments_lexer": "ipython3",
   "version": "3.11.0"
  }
 },
 "nbformat": 4,
 "nbformat_minor": 2
}
