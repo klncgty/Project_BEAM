{
 "cells": [
  {
   "cell_type": "code",
   "execution_count": 1,
   "metadata": {},
   "outputs": [
    {
     "name": "stdout",
     "output_type": "stream",
     "text": [
      "file found\n",
      "File uploaded successfully!\n"
     ]
    }
   ],
   "source": [
    "# 1\n",
    "import os\n",
    "import json\n",
    "from requests import post, exceptions\n",
    "\n",
    "api_key = \"tnt_Jjo574TV761_f8zfSpe6hOt5z9AJKATRWJd7G4I5oQOm4pfTY9p80oP\"\n",
    "file_path = \"Alice_in_Wonderland.pdf\"\n",
    "                                                                \n",
    "try:\n",
    "    with open(file_path, \"rb\") as f:\n",
    "        print(\"file found\")\n",
    "        content = f.read()\n",
    "except FileNotFoundError:\n",
    "    print(f\"Dosya bulunamadı: {file_path}\")\n",
    "    exit()\n",
    "\n",
    "metadata = {\"title\": \"alice\", \"environment\": \"alice\"}\n",
    "\n",
    "data = {\n",
    "    \"metadata\": json.dumps(metadata)\n",
    "}\n",
    "\n",
    "files = { \"file\": (file_path, content), }\n",
    "\n",
    "headers = {\n",
    "    \"Authorization\": f\"Bearer {api_key}\",\n",
    "    \"Accept\": \"application/json\"\n",
    "}\n",
    "\n",
    "try:\n",
    "    response = post(\"https://api.ragie.ai/documents\", data=data, files=files, headers=headers)\n",
    "    response.raise_for_status()  \n",
    "    print(\"File uploaded successfully!\")\n",
    "except exceptions.RequestException as e:\n",
    "    print(f\"Uploading error: {e}\")\n"
   ]
  },
  {
   "cell_type": "code",
   "execution_count": null,
   "metadata": {},
   "outputs": [],
   "source": [
    "test = \"\"\"\"test (2).ipynb\"\tid\tdescription\tunit\tprice\n",
    "0\t10.100.1001\tMaster stonemason\th\t45,00\n",
    "1\t10.100.1002\tMaster floor tiler\th\t45,00\n",
    "2\t10.100.1003\tMaster floor-and-wall tiler\th\t45,00\n",
    "3\t10.100.1004\tMaster ceramic tiler\th\t45,00\n",
    "4\t10.100.1005\tMaster marble tiler\th\t45,00\n",
    "5\t10.100.1006\tMaster marble cutter\th\t45,00\n",
    "6\t10.100.1007\tMaster mosaic tiler\th\t45,00\n",
    "7\t10.100.1008\tMaster joiner\th\t45,00\n",
    "8\t10.100.1009\tMaster carpenter\th\t45,00\n",
    "9\t10.100.1010\tMaster of insulation\th\t45,00\n",
    "10\t10.100.1011\tBlaster (Blasting expert)\th\t45,00\n",
    "11\t10.100.1012\tMaster plasterer\th\t45,00\n",
    "12\t10.100.1013\tMaster bricklayer\th\t45,00\n",
    "13\t10.100.1014\tMaster paver\th\t45,00\n",
    "14\t10.100.1015\tConcrete master\th\t45,00\n",
    "15\t10.100.1016\tRoof tiler\th\t45,00\n",
    "16\t10.100.1017\tMaster builder\th\t45,00\n",
    "17\t10.100.1018\tMaster blacksmith\th\t45,00\n",
    "18\t10.100.1019\tMaster steel fixer\th\t45,00\n",
    "19\t10.100.1020\tPlasterboard master\th\t45,00\n",
    "20\t10.100.1021\tMaster welder\th\t45,00\n",
    "21\t10.100.1022\tMaster glazer\th\t45,00\n",
    "22\t10.100.1023\tMaster painter\th\t45,00\n",
    "23\t10.100.1024\tMaster whitewasher\th\t45,00\n",
    "24\t10.100.1025\tMaster upholsterer\th\t45,00\n",
    "25\t10.100.1026\tMaster tinsmith\th\t45,00\n",
    "26\t10.100.1027\tMaster turner\th\t45,00\n",
    "27\t10.100.1028\tMaster linoleum layer\th\t45,00\n",
    "28\t10.100.1029\tMaster varnisher\th\t45,00\n",
    "29\t10.100.1030\tTimberman (does timbering work)\th\t45,00\n",
    "30\t10.100.1031\tMaster coppersmith\th\t45,00\n",
    "31\t10.100.1032\tMaster aluminum worker\th\t45,00\n",
    "32\t10.100.1033\tGypsum board master\th\t45,00\n",
    "33\t10.100.1034\tGypsum block master\th\t45,00\n",
    "34\t10.100.1035\tScaffolding Construction Worker\th\t45,00\n",
    "35\t10.100.1036\tPanel Roofer\th\t45,00\n",
    "36\t10.100.1037\tConcrete Pump Operator\th\t53,00\n",
    "37\t10.100.1038\tGypsum board master's helper\th\t33,50\n",
    "38\t10.100.1039\tMaster mosaic tiler's helper\th\t33,50\n",
    "39\t10.100.1040\tGypsum Block Master's Helper\th\t33,50\n",
    "40\t10.100.1041\tMaster carpenter's helper\th\t33,50\n",
    "41\t10.100.1042\tMaster of insulation's helper\th\t33,50\n",
    "42\t10.100.1043\tPlasterboard master's helper\th\t33,50\n",
    "43\t10.100.1044\tMaster plasterer's helper\th\t33,50\n",
    "44\t10.100.1045\tMaster bricklayer's helper\th\t33,50\n",
    "45\t10.100.1046\tMaster blacksmith's helper\th\t33,50\"\"\""
   ]
  },
  {
   "cell_type": "code",
   "execution_count": 2,
   "metadata": {},
   "outputs": [
    {
     "name": "stdout",
     "output_type": "stream",
     "text": [
      "En son yüklenen dosya idsi = 5ffa9bc0-4728-4ccb-be1e-af688086579f\n"
     ]
    }
   ],
   "source": [
    "import requests\n",
    "import json\n",
    "\n",
    "environment= \"alice\"\n",
    "url = f\"https://api.ragie.ai/documents\"\n",
    "headers = {\"Authorization\": f\"Bearer {api_key}\"}\n",
    "\n",
    "try:\n",
    "    response = requests.get(url, headers=headers)\n",
    "    response.raise_for_status()  # Raise an exception for non-200 status codes\n",
    "\n",
    "    data = response.json()\n",
    "    id = data['documents'][0]['id']\n",
    "    print(f\"En son yüklenen dosya idsi = {data['documents'][0]['id']}\")\n",
    "except requests.exceptions.RequestException as e:\n",
    "    print(f\"An error occurred: {e}\")"
   ]
  },
  {
   "cell_type": "code",
   "execution_count": 3,
   "metadata": {},
   "outputs": [
    {
     "name": "stdout",
     "output_type": "stream",
     "text": [
      "{'id': '5ffa9bc0-4728-4ccb-be1e-af688086579f', 'created_at': '2024-07-25T14:48:54.748661Z', 'updated_at': '2024-07-25T14:48:55.390910Z', 'status': 'partitioning', 'name': 'Alice_in_Wonderland.pdf', 'metadata': {'title': 'alice', 'environment': 'alice'}, 'chunk_count': 0, 'external_id': None}\n"
     ]
    }
   ],
   "source": [
    "import requests\n",
    "import json\n",
    "\n",
    "\n",
    "\n",
    "url = f\"https://api.ragie.ai/documents/{id}\"\n",
    "headers = {\"Authorization\": f\"Bearer {api_key}\"}\n",
    "\n",
    "try:\n",
    "    response = requests.get(url, headers=headers)\n",
    "    response.raise_for_status()  \n",
    "\n",
    "    data = response.json()\n",
    "    print(data)\n",
    "except requests.exceptions.RequestException as e:\n",
    "    print(f\"An error occurred: {e}\")"
   ]
  },
  {
   "cell_type": "markdown",
   "metadata": {},
   "source": [
    "# our test data : material_table.csv\n",
    "\n",
    "maybe important columns are Element,type,level and material.\n",
    "\n",
    "Element,Element_ID,Type,Level,Material,Volume,Area,Length\n",
    "Walls,348721,Generic - 200mm,Level 1,Default Wall,10.378381544244544,52.32838317982891,13500000.000000002\n",
    "Walls,348799,Generic - 200mm,Level 1,Default Wall,5.924384085743169,29.87427472612334,7900000.000000001\n",
    "Walls,348832,Generic - 200mm,Level 1,Default Wall,6.160371282705472,31.070456695746568,8399999.999999981\n",
    "Walls,348867,Generic - 200mm,Level 1,Default Wall,2.519267765605479,12.704645393438359,3400000.0\n",
    "Walls,348907,Generic - 200mm,Level 1,Default Wall,4.112708582754127,20.724919696232977,5150000.000000019\n",
    "Walls,348945,Generic - 200mm,Level 1,Default Wall,3.2446830938760205,16.36313093876025,4499999.999999986\n",
    "Walls,349579,Generic -100 mm,Level 1,Default Wall,1.7028762234596897,17.028762234596837,4499999.999999986\n",
    "Walls,349652,Generic -100 mm,Level 1,Default Wall,2.95308057876629,29.6120357117212,7650000.000000001\n",
    "Walls,350195,Generic -100 mm,Level 1,Default Wall,1.3899473195226815,13.909112479548364,3209999.9999999856\n",
    "Roofs,349491,Generic - 400mm,Level 2,Default Roof,46.98353802786268,117.45884506965665,\n"
   ]
  },
  {
   "cell_type": "code",
   "execution_count": 6,
   "metadata": {},
   "outputs": [],
   "source": [
    "def ragie(test_data):   \n",
    "    filter_data = {\"environment\": \"alice\"}\n",
    "\n",
    "    data = {\"query\": f\"  {test_data}\", \"filter\": filter_data,\"rerank\": True, \"top_k\": 1}\n",
    "    body = json.dumps(data)\n",
    "\n",
    "    url = \"https://api.ragie.ai/retrievals\"\n",
    "\n",
    "    headers = {\n",
    "        \"Content-Type\": \"application/json\",\n",
    "        \"Authorization\": f\"Bearer {api_key}\"\n",
    "    }\n",
    "\n",
    "    try:\n",
    "    \n",
    "        response = requests.post(url, headers=headers, data=body)\n",
    "        response.raise_for_status()  \n",
    "\n",
    "        data = response.json()\n",
    "        #print(data)\n",
    "    except requests.exceptions.RequestException as e:\n",
    "        print(f\"An error occurred: {e}\")\n",
    "    text_list = [chunk['text'] for chunk in data['scored_chunks']]\n",
    "    combined_text = '\\n'.join(text_list)\n",
    "    return combined_text"
   ]
  },
  {
   "cell_type": "code",
   "execution_count": 7,
   "metadata": {},
   "outputs": [],
   "source": [
    "import pandas as pd\n",
    "df = pd.read_csv(\"material_table.csv\")\n",
    "df = df.iloc[0]\n",
    "test_data = df.to_json(orient=\"records\")"
   ]
  },
  {
   "cell_type": "code",
   "execution_count": 42,
   "metadata": {},
   "outputs": [
    {
     "data": {
      "text/plain": [
       "'[{\"Element\":\"Walls\",\"Element_ID\":348721,\"Type\":\"Generic - 200mm\",\"Level\":\"Level 1\",\"Material\":\"Default Wall\",\"Volume\":10.3783815442,\"Area\":52.3283831798,\"Length\":13500000.0000000019},{\"Element\":\"Walls\",\"Element_ID\":348799,\"Type\":\"Generic - 200mm\",\"Level\":\"Level 1\",\"Material\":\"Default Wall\",\"Volume\":5.9243840857,\"Area\":29.8742747261,\"Length\":7900000.0000000009},{\"Element\":\"Walls\",\"Element_ID\":348832,\"Type\":\"Generic - 200mm\",\"Level\":\"Level 1\",\"Material\":\"Default Wall\",\"Volume\":6.1603712827,\"Area\":31.0704566957,\"Length\":8399999.9999999814},{\"Element\":\"Walls\",\"Element_ID\":348867,\"Type\":\"Generic - 200mm\",\"Level\":\"Level 1\",\"Material\":\"Default Wall\",\"Volume\":2.5192677656,\"Area\":12.7046453934,\"Length\":3400000.0},{\"Element\":\"Walls\",\"Element_ID\":348907,\"Type\":\"Generic - 200mm\",\"Level\":\"Level 1\",\"Material\":\"Default Wall\",\"Volume\":4.1127085828,\"Area\":20.7249196962,\"Length\":5150000.0000000186},{\"Element\":\"Walls\",\"Element_ID\":348945,\"Type\":\"Generic - 200mm\",\"Level\":\"Level 1\",\"Material\":\"Default Wall\",\"Volume\":3.2446830939,\"Area\":16.3631309388,\"Length\":4499999.999999986},{\"Element\":\"Walls\",\"Element_ID\":349579,\"Type\":\"Generic -100 mm\",\"Level\":\"Level 1\",\"Material\":\"Default Wall\",\"Volume\":1.7028762235,\"Area\":17.0287622346,\"Length\":4499999.999999986},{\"Element\":\"Walls\",\"Element_ID\":349652,\"Type\":\"Generic -100 mm\",\"Level\":\"Level 1\",\"Material\":\"Default Wall\",\"Volume\":2.9530805788,\"Area\":29.6120357117,\"Length\":7650000.0000000009},{\"Element\":\"Walls\",\"Element_ID\":350195,\"Type\":\"Generic -100 mm\",\"Level\":\"Level 1\",\"Material\":\"Default Wall\",\"Volume\":1.3899473195,\"Area\":13.9091124795,\"Length\":3209999.9999999856},{\"Element\":\"Roofs\",\"Element_ID\":349491,\"Type\":\"Generic - 400mm\",\"Level\":\"Level 2\",\"Material\":\"Default Roof\",\"Volume\":46.9835380279,\"Area\":117.4588450697,\"Length\":null}]'"
      ]
     },
     "execution_count": 42,
     "metadata": {},
     "output_type": "execute_result"
    }
   ],
   "source": [
    "test_data"
   ]
  },
  {
   "cell_type": "code",
   "execution_count": 7,
   "metadata": {},
   "outputs": [
    {
     "data": {
      "text/plain": [
       "'After a time she heard a little pattering of feet in the distance, and she hastily dried her eyes to see what was coming. It was the White Rabbit returning, splendidly dressed, with a pair of white kid gloves in one hand and a large fan in the other : he came trotting along in a great hurry, muttering to himself as he came, “ Oh ! the Duchess, the Duchess ! Oh ! won’t she be savage if I ’ve kept her waiting !” Alice felt so desperate that she was ready to ask help\\nC\\nInternet\\n17\\nFit Page\\n18\\nTHE POOL\\nof any one ; so, when the Rabbit came near her, she began, in a low, timid voice, “ If you please, sir——” The Rabbit started violently, dropped the white kid gloves and the fan, and skurried away into the darkness as hard as he could go.\\nNavigate\\nDigital Interface by BookVirtual Corp. U.S. Patent Pending. © 2000 All Rights Reserved.\\nFull Screen On/Off\\nControl\\nClose Book\\nOF TEARS.\\nAlice took up the fan and gloves, and, as the hall was very hot, she kept fanning herself all the time she went on talking : “ Dear, dear ! How queer everything is to-day ! And yester- day things went on just as usual. I wonder if I ’ve been changed in the night ? Let me think : was I the same when I got up this morning ? I almost think I can remember feeling a little different. But if I ’m not the same, the next question is, Who in the world am I ? Ah, that’s the great puzzle !” And she began thinking over all the children she knew, that were of the same age as herself, to see if she could have been changed for any of them.\\n“ I ’m sure I ’m not Ada,” she said, “ for her hair goes in such long ringlets, and mine doesn’t go in ringlets at all ; and I ’m sure I can ’t be Mabel, for I know all sorts of things, and she, oh ! she knows such a very little ! Besides, she’s she, and I’m I, and—oh dear, how puzzling it all is ! I ’ll try if I know all the things I used to know. Let me see : four times ﬁve is twelve,\\nC 2\\nInternet\\n19\\nFit Page\\n20\\nTHE POOL'"
      ]
     },
     "execution_count": 7,
     "metadata": {},
     "output_type": "execute_result"
    }
   ],
   "source": [
    "ragie(test_data=\"who is alice \")"
   ]
  }
 ],
 "metadata": {
  "kernelspec": {
   "display_name": "Python 3",
   "language": "python",
   "name": "python3"
  },
  "language_info": {
   "codemirror_mode": {
    "name": "ipython",
    "version": 3
   },
   "file_extension": ".py",
   "mimetype": "text/x-python",
   "name": "python",
   "nbconvert_exporter": "python",
   "pygments_lexer": "ipython3",
   "version": "3.11.0"
  }
 },
 "nbformat": 4,
 "nbformat_minor": 2
}
